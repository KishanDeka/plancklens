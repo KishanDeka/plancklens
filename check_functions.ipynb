{
 "cells": [
  {
   "cell_type": "code",
   "execution_count": 1,
   "id": "ce4637e0",
   "metadata": {},
   "outputs": [],
   "source": [
    "import os\n",
    "import numpy as np\n",
    "import healpy as hp\n",
    "\n",
    "import plancklens\n",
    "from plancklens.filt import filt_simple, filt_util\n",
    "from plancklens.n1 import n1\n",
    "from plancklens.sims import planck2018_sims, phas, maps, utils as maps_utils"
   ]
  },
  {
   "cell_type": "code",
   "execution_count": 2,
   "id": "54a554e9",
   "metadata": {},
   "outputs": [],
   "source": [
    "assert 'PLENS' in os.environ.keys(), 'Set env. variable PLENS to a writeable folder'\n",
    "TEMP =  os.path.join('/home/dekak/Desktop/plancklens/', 'temp', 'idealized_example')\n",
    "\n",
    "lmax_ivf = 2048\n",
    "lmin_ivf = 100  # We will use in the QE only CMB modes between lmin_ivf and lmax_ivf\n",
    "lmax_qlm = 4096 # We will calculate lensing estimates until multipole lmax_qlm.\n",
    "nside = 2048 # Healpix resolution of the data and sims.\n",
    "nlev_t = 35. # Filtering noise level in temperature (here also used for the noise simulations generation).\n",
    "nlev_p = 55. # Filtering noise level in polarization (here also used for the noise simulations generation).\n",
    "nsims = 300  # Total number of simulations to consider.\n",
    "\n",
    "transf = hp.gauss_beam(5. / 60. / 180. * np.pi, lmax=lmax_ivf) * hp.pixwin(nside)[:lmax_ivf + 1]\n",
    "libdir_pixphas = os.path.join(TEMP, 'pix_phas_nside%s'%nside)\n",
    "pix_phas = phas.pix_lib_phas(libdir_pixphas, 3, (hp.nside2npix(nside),))\n",
    "sims = maps_utils.sim_lib_shuffle(maps.cmb_maps_nlev(planck2018_sims.cmb_len_ffp10(), \n",
    "                                  transf, nlev_t, nlev_p, nside, pix_lib_phas=pix_phas),\n",
    "                                  {idx: nsims if idx == -1 else idx for idx in range(-1, nsims)})"
   ]
  },
  {
   "cell_type": "code",
   "execution_count": 4,
   "id": "d6b85a3f",
   "metadata": {},
   "outputs": [
    {
     "data": {
      "text/plain": [
       "plancklens.sims.utils.sim_lib_shuffle"
      ]
     },
     "execution_count": 4,
     "metadata": {},
     "output_type": "execute_result"
    }
   ],
   "source": [
    "type(sims)"
   ]
  },
  {
   "cell_type": "code",
   "execution_count": null,
   "id": "aeb8cad4",
   "metadata": {},
   "outputs": [],
   "source": []
  }
 ],
 "metadata": {
  "kernelspec": {
   "display_name": "Python 3 (ipykernel)",
   "language": "python",
   "name": "python3"
  },
  "language_info": {
   "codemirror_mode": {
    "name": "ipython",
    "version": 3
   },
   "file_extension": ".py",
   "mimetype": "text/x-python",
   "name": "python",
   "nbconvert_exporter": "python",
   "pygments_lexer": "ipython3",
   "version": "3.10.8"
  }
 },
 "nbformat": 4,
 "nbformat_minor": 5
}
